{
 "cells": [
  {
   "cell_type": "code",
   "execution_count": 48,
   "metadata": {},
   "outputs": [],
   "source": [
    "import jupyter_manim"
   ]
  },
  {
   "cell_type": "code",
   "execution_count": 49,
   "metadata": {},
   "outputs": [],
   "source": [
    "COLOR = 'red'"
   ]
  },
  {
   "cell_type": "code",
   "execution_count": 50,
   "metadata": {},
   "outputs": [],
   "source": [
    "from manimlib.imports import *\n",
    "from math import cos, sin, pi"
   ]
  },
  {
   "cell_type": "code",
   "execution_count": 51,
   "metadata": {},
   "outputs": [],
   "source": [
    "import statistics"
   ]
  },
  {
   "cell_type": "code",
   "execution_count": 55,
   "metadata": {},
   "outputs": [
    {
     "data": {
      "text/html": [
       "\n",
       "    <video\n",
       "      width=\"854\"\n",
       "      height=\"480\"\n",
       "      autoplay=\"autoplay\"\n",
       "      controls\n",
       "    >\n",
       "        <source src=\"media/videos/tmpgbeyoc_s/1440p60/Shapes.mp4\" type=\"video/mp4\">\n",
       "    </video>\n",
       "    "
      ],
      "text/plain": [
       "<IPython.core.display.HTML object>"
      ]
     },
     "execution_count": 55,
     "metadata": {},
     "output_type": "execute_result"
    }
   ],
   "source": [
    "%%manim Shapes\n",
    "from manimlib.scene.scene import Scene\n",
    "from manimlib.mobject.geometry import Circle\n",
    "from manimlib.animation.creation import ShowCreation\n",
    "\n",
    "class Shapes(Scene):\n",
    "\n",
    "    def construct(self):\n",
    "        circle = Circle()\n",
    "        square = Square()\n",
    "        triangle = Polygon(np.array([0,0,0]),np.array([1,1,0]),np.array([1,-1,0]))\n",
    "        my_first_text=TextMobject(\"Fourier the Artist\")\n",
    "        second_line=TextMobject(\"brought to you by\")\n",
    "        second_line.next_to(my_first_text,DOWN)\n",
    "        third_line=TextMobject(\"Jamie and Haley!\")\n",
    "        third_line.next_to(my_first_text,DOWN)\n",
    "        \n",
    "        self.play(ShowCreation(circle))\n",
    "        self.play(FadeOut(circle))\n",
    "        self.play(GrowFromCenter(square))\n",
    "        self.play(Transform(square,triangle))\n",
    "#         self.play(FadeOut(triangle))\n",
    "        self.add(my_first_text, second_line)\n",
    "        self.wait(2)\n",
    "        self.play(Transform(second_line,third_line))\n",
    "        self.wait(2)\n",
    "        second_line.shift(3*DOWN)\n",
    "#         self.play(ApplyMethod(my_first_text.shift,3*UP))"
   ]
  },
  {
   "cell_type": "code",
   "execution_count": null,
   "metadata": {},
   "outputs": [],
   "source": []
  }
 ],
 "metadata": {
  "kernelspec": {
   "display_name": "Python 3",
   "language": "python",
   "name": "python3"
  },
  "language_info": {
   "codemirror_mode": {
    "name": "ipython",
    "version": 3
   },
   "file_extension": ".py",
   "mimetype": "text/x-python",
   "name": "python",
   "nbconvert_exporter": "python",
   "pygments_lexer": "ipython3",
   "version": "3.7.7"
  }
 },
 "nbformat": 4,
 "nbformat_minor": 4
}
