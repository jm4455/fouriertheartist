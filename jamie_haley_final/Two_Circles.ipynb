{
 "cells": [
  {
   "cell_type": "code",
   "execution_count": 2,
   "metadata": {},
   "outputs": [],
   "source": [
    "import jupyter_manim\n",
    "from manimlib.imports import *\n",
    "from math import cos, sin, pi\n",
    "import statistics\n",
    "from manimlib.scene.scene import Scene\n",
    "from manimlib.mobject.geometry import Circle\n",
    "from manimlib.animation.creation import ShowCreation"
   ]
  },
  {
   "cell_type": "code",
   "execution_count": 4,
   "metadata": {},
   "outputs": [
    {
     "data": {
      "text/html": [
       "\n",
       "    <video\n",
       "      width=\"854\"\n",
       "      height=\"480\"\n",
       "      autoplay=\"autoplay\"\n",
       "      controls\n",
       "    >\n",
       "        <source src=\"media/videos/tmp21wdotwg/1440p60/EpicycloidScene.mp4\" type=\"video/mp4\">\n",
       "    </video>\n",
       "    "
      ],
      "text/plain": [
       "<IPython.core.display.HTML object>"
      ]
     },
     "execution_count": 4,
     "metadata": {},
     "output_type": "execute_result"
    }
   ],
   "source": [
    "%%manim EpicycloidScene\n",
    "class EpicycloidScene(Scene):\n",
    "    def construct(self):\n",
    "        radius1 = 2.4\n",
    "        radius2 = radius1/8\n",
    "        self.epy(radius1,radius2)\n",
    "\n",
    "    def epy(self,r1,r2):\n",
    "        # Manim circle\n",
    "        c1 = Circle(radius=r1,color=BLUE)\n",
    "        # Small circle\n",
    "        c2 = Circle(radius=r2,color=PURPLE).rotate(PI)\n",
    "        c2.next_to(c1,RIGHT,buff=0)\n",
    "        c2.start = c2.copy()\n",
    "        # Dot\n",
    "        # .points[0] return the start path coordinate\n",
    "        # .points[-1] return the end path coordinate\n",
    "        dot = Dot(c2.points[0],color=RED)\n",
    "        # Line\n",
    "        line = Line(c2.get_center(),dot.get_center()).set_stroke(BLACK,2.5)\n",
    "        # Path\n",
    "        path = VMobject(color=RED)\n",
    "        # Path can't have the same coord twice, so we have to dummy point\n",
    "        path.set_points_as_corners([dot.get_center(),dot.get_center()+UP*0.001])\n",
    "        # Path group\n",
    "        path_group = VGroup(line,dot,path)\n",
    "        # Alpha, from 0 to 1:\n",
    "        alpha = ValueTracker(0)\n",
    "        \n",
    "        self.play(ShowCreation(line),ShowCreation(c1),ShowCreation(c2),GrowFromCenter(dot))\n",
    "\n",
    "        # update function of path_group\n",
    "        def update_group(group):\n",
    "            l,mob,previus_path = group\n",
    "            mob.move_to(c2.points[0])\n",
    "            old_path = path.copy()\n",
    "            # See manimlib/mobject/types/vectorized_mobject.py\n",
    "            old_path.append_vectorized_mobject(Line(old_path.points[-1],mob.get_center()))\n",
    "            old_path.make_smooth()\n",
    "            l.put_start_and_end_on(c2.get_center(),mob.get_center())\n",
    "            path.become(old_path)\n",
    "\n",
    "        # update function of small circle\n",
    "        def update_c2(c):\n",
    "            c.become(c.start)\n",
    "            c.rotate(TAU*alpha.get_value(),about_point=c1.get_center())\n",
    "            c.rotate(TAU*(r1/r2)*alpha.get_value(),about_point=c.get_center())\n",
    "\n",
    "        path_group.add_updater(update_group)\n",
    "        c2.add_updater(update_c2)\n",
    "        self.add(c2,path_group)\n",
    "        self.play(\n",
    "                alpha.set_value,1,\n",
    "                rate_func=linear,\n",
    "                run_time=6\n",
    "                )\n",
    "        self.wait(2)\n",
    "        c2.clear_updaters()\n",
    "        path_group.clear_updaters()\n",
    "        self.play(FadeOut(VGroup(c1,c2,path_group)))\n"
   ]
  },
  {
   "cell_type": "code",
   "execution_count": null,
   "metadata": {},
   "outputs": [],
   "source": []
  }
 ],
 "metadata": {
  "kernelspec": {
   "display_name": "Python 3",
   "language": "python",
   "name": "python3"
  },
  "language_info": {
   "codemirror_mode": {
    "name": "ipython",
    "version": 3
   },
   "file_extension": ".py",
   "mimetype": "text/x-python",
   "name": "python",
   "nbconvert_exporter": "python",
   "pygments_lexer": "ipython3",
   "version": "3.7.7"
  }
 },
 "nbformat": 4,
 "nbformat_minor": 4
}
