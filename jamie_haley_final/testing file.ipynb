{
 "cells": [
  {
   "cell_type": "code",
   "execution_count": 5,
   "metadata": {},
   "outputs": [],
   "source": [
    "from manimlib.imports import *\n",
    "import jupyter_manim"
   ]
  },
  {
   "cell_type": "code",
   "execution_count": 15,
   "metadata": {},
   "outputs": [
    {
     "data": {
      "text/html": [
       "\n",
       "    <video\n",
       "      width=\"854\"\n",
       "      height=\"480\"\n",
       "      autoplay=\"autoplay\"\n",
       "      controls\n",
       "    >\n",
       "        <source src=\"media\\videos\\tmpa_8_r21m\\1440p60\\SquareToCircleWithModifications.mp4\" type=\"video/mp4\">\n",
       "    </video>\n",
       "    "
      ],
      "text/plain": [
       "<IPython.core.display.HTML object>"
      ]
     },
     "execution_count": 15,
     "metadata": {},
     "output_type": "execute_result"
    }
   ],
   "source": [
    "%%manim SquareToCircleWithModifications\n",
    "\n",
    "from manimlib.scene.scene import Scene\n",
    "from manimlib.mobject.geometry import Circle\n",
    "from manimlib.animation.creation import ShowCreation\n",
    "\n",
    "class SquareToCircleWithModifications(Scene):\n",
    "    def construct(self):\n",
    "        circle = Circle()\n",
    "        square = Square()\n",
    "        square.flip(RIGHT)\n",
    "        square.rotate(-3 * TAU / 8)\n",
    "        circle.set_fill(PINK, opacity=0.5)\n",
    "\n",
    "        self.play(ShowCreation(square))\n",
    "        self.play(Transform(square, circle))\n",
    "        self.play(FadeOut(square))"
   ]
  },
  {
   "cell_type": "code",
   "execution_count": 7,
   "metadata": {},
   "outputs": [
    {
     "data": {
      "text/html": [
       "\n",
       "    <video\n",
       "      width=\"854\"\n",
       "      height=\"480\"\n",
       "      autoplay=\"autoplay\"\n",
       "      controls\n",
       "    >\n",
       "        <source src=\"videos\\tmp2bdru54q\\1440p60\\Shapes.mp4\" type=\"video/mp4\">\n",
       "    </video>\n",
       "    "
      ],
      "text/plain": [
       "<IPython.core.display.HTML object>"
      ]
     },
     "execution_count": 7,
     "metadata": {},
     "output_type": "execute_result"
    }
   ],
   "source": [
    "%%manim Shapes\n",
    "from manimlib.scene.scene import Scene\n",
    "from manimlib.mobject.geometry import Circle\n",
    "from manimlib.animation.creation import ShowCreation\n",
    "\n",
    "class Shapes(Scene):\n",
    "\n",
    "    def construct(self):\n",
    "        circle = Circle()\n",
    "        self.play(ShowCreation(circle))"
   ]
  },
  {
   "cell_type": "code",
   "execution_count": 12,
   "metadata": {},
   "outputs": [
    {
     "data": {
      "text/html": [
       "\n",
       "    <video\n",
       "      width=\"854\"\n",
       "      height=\"480\"\n",
       "      autoplay=\"autoplay\"\n",
       "      controls\n",
       "    >\n",
       "        <source src=\"media\\videos\\tmpsrtorv3b\\1440p60\\Shapes.mp4\" type=\"video/mp4\">\n",
       "    </video>\n",
       "    "
      ],
      "text/plain": [
       "<IPython.core.display.HTML object>"
      ]
     },
     "execution_count": 12,
     "metadata": {},
     "output_type": "execute_result"
    }
   ],
   "source": [
    "%%manim Shapes\n",
    "from manimlib.scene.scene import Scene\n",
    "from manimlib.mobject.geometry import Circle\n",
    "from manimlib.animation.creation import ShowCreation\n",
    "\n",
    "class Shapes(Scene):\n",
    "\n",
    "    def construct(self):\n",
    "        circle = Circle()\n",
    "        self.play(ShowCreation(circle))"
   ]
  },
  {
   "cell_type": "code",
   "execution_count": 13,
   "metadata": {},
   "outputs": [
    {
     "name": "stdout",
     "output_type": "stream",
     "text": [
      "usage: manim [-h] [-p] [-w] [-s] [-l] [-m] [--high_quality] [-g] [-i] [-f]\n",
      "             [-t] [-q] [-a] [-o FILE_NAME] [-n START_AT_ANIMATION_NUMBER]\n",
      "             [-r RESOLUTION] [-c COLOR] [--sound] [--leave_progress_bars]\n",
      "             [--media_dir MEDIA_DIR]\n",
      "             [--video_dir VIDEO_DIR | --video_output_dir VIDEO_OUTPUT_DIR]\n",
      "             [--tex_dir TEX_DIR] [--livestream] [--to-twitch]\n",
      "             [--with-key TWITCH_KEY]\n",
      "             [file] [scene_names [scene_names ...]]\n",
      "\n",
      "positional arguments:\n",
      "  file                  path to file holding the python code for the scene\n",
      "  scene_names           Name of the Scene class you want to see\n",
      "\n",
      "optional arguments:\n",
      "  -h, --help            show this help message and exit\n",
      "  -p, --preview         Automatically open the saved file once its done\n",
      "  -w, --write_to_movie  Render the scene as a movie file\n",
      "  -s, --save_last_frame\n",
      "                        Save the last frame\n",
      "  -l, --low_quality     Render at a low quality (for faster rendering)\n",
      "  -m, --medium_quality  Render at a medium quality\n",
      "  --high_quality        Render at a high quality\n",
      "  -g, --save_pngs       Save each frame as a png\n",
      "  -i, --save_as_gif     Save the video as gif\n",
      "  -f, --show_file_in_finder\n",
      "                        Show the output file in finder\n",
      "  -t, --transparent     Render to a movie file with an alpha channel\n",
      "  -q, --quiet\n",
      "  -a, --write_all       Write all the scenes from a file\n",
      "  -o FILE_NAME, --file_name FILE_NAME\n",
      "                        Specify the name of the output file, ifit should be\n",
      "                        different from the scene class name\n",
      "  -n START_AT_ANIMATION_NUMBER, --start_at_animation_number START_AT_ANIMATION_NUMBER\n",
      "                        Start rendering not from the first animation, butfrom\n",
      "                        another, specified by its index. If you passin two\n",
      "                        comma separated values, e.g. \"3,6\", it will endthe\n",
      "                        rendering at the second value\n",
      "  -r RESOLUTION, --resolution RESOLUTION\n",
      "                        Resolution, passed as \"height,width\"\n",
      "  -c COLOR, --color COLOR\n",
      "                        Background color\n",
      "  --sound               Play a success/failure sound\n",
      "  --leave_progress_bars\n",
      "                        Leave progress bars displayed in terminal\n",
      "  --media_dir MEDIA_DIR\n",
      "                        directory to write media\n",
      "  --video_dir VIDEO_DIR\n",
      "                        directory to write file tree for video\n",
      "  --video_output_dir VIDEO_OUTPUT_DIR\n",
      "                        directory to write video\n",
      "  --tex_dir TEX_DIR     directory to write tex\n",
      "  --livestream          Run in streaming mode\n",
      "  --to-twitch           Stream to twitch\n",
      "  --with-key TWITCH_KEY\n",
      "                        Stream key for twitch\n",
      "\n"
     ]
    },
    {
     "name": "stderr",
     "output_type": "stream",
     "text": [
      "\n"
     ]
    }
   ],
   "source": [
    "%%manim -h\n",
    "pass"
   ]
  },
  {
   "cell_type": "code",
   "execution_count": null,
   "metadata": {},
   "outputs": [],
   "source": []
  }
 ],
 "metadata": {
  "kernelspec": {
   "display_name": "Python 3",
   "language": "python",
   "name": "python3"
  },
  "language_info": {
   "codemirror_mode": {
    "name": "ipython",
    "version": 3
   },
   "file_extension": ".py",
   "mimetype": "text/x-python",
   "name": "python",
   "nbconvert_exporter": "python",
   "pygments_lexer": "ipython3",
   "version": "3.7.4"
  }
 },
 "nbformat": 4,
 "nbformat_minor": 2
}
